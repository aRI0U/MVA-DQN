{
  "nbformat": 4,
  "nbformat_minor": 0,
  "metadata": {
    "kernelspec": {
      "display_name": "Python 3",
      "language": "python",
      "name": "python3"
    },
    "language_info": {
      "codemirror_mode": {
        "name": "ipython",
        "version": 3
      },
      "file_extension": ".py",
      "mimetype": "text/x-python",
      "name": "python",
      "nbconvert_exporter": "python",
      "pygments_lexer": "ipython3",
      "version": "3.6.9"
    },
    "colab": {
      "name": "DQN_project_MVA.ipynb",
      "provenance": [],
      "collapsed_sections": []
    }
  },
  "cells": [
    {
      "cell_type": "markdown",
      "metadata": {
        "id": "nC3RRlZc2z3R",
        "colab_type": "text"
      },
      "source": [
        "**You may need to install [OpenCV](https://pypi.python.org/pypi/opencv-python) and [scikit-video](http://www.scikit-video.org/stable/).**"
      ]
    },
    {
      "cell_type": "code",
      "metadata": {
        "id": "-rseJykc2z3e",
        "colab_type": "code",
        "colab": {
          "base_uri": "https://localhost:8080/",
          "height": 243
        },
        "outputId": "5c1f3365-8d8f-42fc-f6b7-2c15102b6cb6"
      },
      "source": [
        "import keras\n",
        "import numpy as np\n",
        "import io\n",
        "import base64\n",
        "from IPython.display import HTML\n",
        "import cv2\n",
        "import json\n",
        "\n",
        "try:\n",
        "    import skvideo.io\n",
        "except ImportError:\n",
        "    !pip install scikit-video\n",
        "    import skvideo.io\n",
        "\n",
        "from keras.models import Sequential,model_from_json\n",
        "from keras.layers.core import Dense, Dropout, Flatten\n",
        "from keras.optimizers import sgd, adam\n",
        "from keras.layers import Conv2D, MaxPooling2D, Activation, AveragePooling2D,Reshape,BatchNormalization"
      ],
      "execution_count": 1,
      "outputs": [
        {
          "output_type": "stream",
          "text": [
            "Using TensorFlow backend.\n"
          ],
          "name": "stderr"
        },
        {
          "output_type": "display_data",
          "data": {
            "text/html": [
              "<p style=\"color: red;\">\n",
              "The default version of TensorFlow in Colab will soon switch to TensorFlow 2.x.<br>\n",
              "We recommend you <a href=\"https://www.tensorflow.org/guide/migrate\" target=\"_blank\">upgrade</a> now \n",
              "or ensure your notebook will continue to use TensorFlow 1.x via the <code>%tensorflow_version 1.x</code> magic:\n",
              "<a href=\"https://colab.research.google.com/notebooks/tensorflow_version.ipynb\" target=\"_blank\">more info</a>.</p>\n"
            ],
            "text/plain": [
              "<IPython.core.display.HTML object>"
            ]
          },
          "metadata": {
            "tags": []
          }
        },
        {
          "output_type": "stream",
          "text": [
            "Collecting scikit-video\n",
            "\u001b[?25l  Downloading https://files.pythonhosted.org/packages/b1/a6/c69cad508139a342810ae46e946ebb3256aa6e42f690d901bb68f50582e3/scikit_video-1.1.11-py2.py3-none-any.whl (2.3MB)\n",
            "\u001b[K     |████████████████████████████████| 2.3MB 2.7MB/s \n",
            "\u001b[?25hRequirement already satisfied: numpy in /usr/local/lib/python3.6/dist-packages (from scikit-video) (1.17.5)\n",
            "Requirement already satisfied: pillow in /usr/local/lib/python3.6/dist-packages (from scikit-video) (6.2.2)\n",
            "Requirement already satisfied: scipy in /usr/local/lib/python3.6/dist-packages (from scikit-video) (1.4.1)\n",
            "Installing collected packages: scikit-video\n",
            "Successfully installed scikit-video-1.1.11\n"
          ],
          "name": "stdout"
        }
      ]
    },
    {
      "cell_type": "markdown",
      "metadata": {
        "id": "YzpI0-cT2z4C",
        "colab_type": "text"
      },
      "source": [
        "# MiniProject on Deep Reinforcement Learning"
      ]
    },
    {
      "cell_type": "markdown",
      "metadata": {
        "id": "2Ajr5icL2z4J",
        "colab_type": "text"
      },
      "source": [
        "__Notations__: $E_p$ is the expectation under probability $p$. Please justify each of your answer and widely comment your code."
      ]
    },
    {
      "cell_type": "markdown",
      "metadata": {
        "id": "a-cOwULn2z4P",
        "colab_type": "text"
      },
      "source": [
        "# Context"
      ]
    },
    {
      "cell_type": "markdown",
      "metadata": {
        "id": "jgPcRJ1D2z4Y",
        "colab_type": "text"
      },
      "source": [
        "In a reinforcement learning algorithm, we modelize each step $t$ as an action $a_t$ obtained from a state $s_t$, i.e. $\\{(a_{t},s_{t})_{t\\leq T}\\}$ having the Markov property. We consider a discount factor $\\gamma \\in [0,1]$ that ensures convergence. The goal is to find among all the policies $\\pi$, one that maximizes the expected reward:\n",
        "\n",
        "\\begin{equation*}\n",
        "R(\\pi)=\\sum_{t\\leq T}E_{p^{\\pi}}[\\gamma^t r(s_{t},a_{t})] \\> ,\n",
        "\\end{equation*}\n",
        "\n",
        "where: \n",
        "\\begin{equation*}p^{\\pi}(a_{0},a_{1},s_{1},...,a_{T},s_{T})=p(a_{0})\\prod_{t=1}^{T}\\pi(a_{t}|s_{t})p(s_{t+1}|s_{t},a_{t}) \\> .\n",
        "\\end{equation*}\n",
        "\n",
        "We note the $Q$-function:\n",
        "\n",
        "\\begin{equation*}Q^\\pi(s,a)=E_{p^{\\pi}}\\left[\\sum_{t\\leq T}\\gamma^{t}r(s_{t},a_{t})|s_{0}=s,a_{0}=a\\right] \\> .\n",
        "\\end{equation*}\n",
        "\n",
        "Thus, the optimal Q function is:\n",
        "\\begin{equation*}\n",
        "Q^*(s,a)=\\max_{\\pi}Q^\\pi(s,a) \\> .\n",
        "\\end{equation*}\n",
        "\n",
        "In this project, we will apply the deep reinforcement learning techniques to a simple game: an agent will have to learn from scratch a policy that will permit it maximizing a reward."
      ]
    },
    {
      "cell_type": "markdown",
      "metadata": {
        "id": "tRUs_TWI2z4f",
        "colab_type": "text"
      },
      "source": [
        "## The environment, the agent and the game"
      ]
    },
    {
      "cell_type": "markdown",
      "metadata": {
        "id": "4z63sEke2z4l",
        "colab_type": "text"
      },
      "source": [
        "### The environment"
      ]
    },
    {
      "cell_type": "markdown",
      "metadata": {
        "id": "EPI9Jbs22z4s",
        "colab_type": "text"
      },
      "source": [
        "```Environment``` is an abstract class that represents the states, rewards, and actions to obtain the new state."
      ]
    },
    {
      "cell_type": "code",
      "metadata": {
        "id": "GZesim-G2z4y",
        "colab_type": "code",
        "colab": {}
      },
      "source": [
        "class Environment(object):\n",
        "    def __init__(self):\n",
        "        pass\n",
        "\n",
        "    def act(self, act):\n",
        "        \"\"\"\n",
        "        One can act on the environment and obtain its reaction:\n",
        "        - the new state\n",
        "        - the reward of the new state\n",
        "        - should we continue the game?\n",
        "\n",
        "        :return: state, reward, game_over\n",
        "        \"\"\"\n",
        "        pass\n",
        "\n",
        "\n",
        "    def reset(self):\n",
        "        \"\"\"\n",
        "        Reinitialize the environment to a random state and returns\n",
        "        the original state\n",
        "\n",
        "        :return: state\n",
        "        \"\"\"\n",
        "        pass\n",
        "    \n",
        "    def draw(self):\n",
        "        \"\"\"\n",
        "        Visualize in the console or graphically the current state\n",
        "        \"\"\"\n",
        "        pass"
      ],
      "execution_count": 0,
      "outputs": []
    },
    {
      "cell_type": "markdown",
      "metadata": {
        "id": "ZBaKnde-2z5G",
        "colab_type": "text"
      },
      "source": [
        "The method ```act``` allows to act on the environment at a given state $s_t$ (stored internally), via action $a_t$. The method will return the new state $s_{t+1}$, the reward $r(s_{t},a_{t})$ and determines if $t\\leq T$ (*game_over*).\n",
        "\n",
        "The method ```reset``` simply reinitializes the environment to a random state $s_0$.\n",
        "\n",
        "The method ```draw``` displays the current state $s_t$ (this is useful to check the behavior of the Agent).\n",
        "\n",
        "We modelize $s_t$ as a tensor, while $a_t$ is an integer."
      ]
    },
    {
      "cell_type": "markdown",
      "metadata": {
        "id": "DOizaBip2z5O",
        "colab_type": "text"
      },
      "source": [
        "### The Agent"
      ]
    },
    {
      "cell_type": "markdown",
      "metadata": {
        "id": "ahzvVnq12z5U",
        "colab_type": "text"
      },
      "source": [
        "The goal of the ```Agent``` is to interact with the ```Environment``` by proposing actions $a_t$ obtained from a given state $s_t$ to attempt to maximize its __reward__ $r(s_t,a_t)$. We propose the following abstract class:"
      ]
    },
    {
      "cell_type": "code",
      "metadata": {
        "id": "cJ8V9vct2z5Z",
        "colab_type": "code",
        "colab": {}
      },
      "source": [
        "class Agent(object):\n",
        "    def __init__(self, epsilon=0.1, n_action=4):\n",
        "        self.epsilon = epsilon\n",
        "        self.n_action = n_action\n",
        "    \n",
        "    def set_epsilon(self,e):\n",
        "        self.epsilon = e\n",
        "\n",
        "    def act(self,s,train=True):\n",
        "        \"\"\" This function should return the next action to do:\n",
        "        an integer between 0 and 4 (not included) with a random exploration of epsilon\"\"\"\n",
        "        if train:\n",
        "            if np.random.rand() <= self.epsilon:\n",
        "                a = np.random.randint(0, self.n_action, size=1)[0]\n",
        "            else:\n",
        "                a = self.learned_act(s)\n",
        "        else: # in some cases, this can improve the performance.. remove it if poor performances\n",
        "            a = self.learned_act(s)\n",
        "\n",
        "        return a\n",
        "\n",
        "    def learned_act(self,s):\n",
        "        \"\"\" Act via the policy of the agent, from a given state s\n",
        "        it proposes an action a\"\"\"\n",
        "        pass\n",
        "\n",
        "    def reinforce(self, s, n_s, a, r, game_over_):\n",
        "        \"\"\" This function is the core of the learning algorithm. \n",
        "        It takes as an input the current state s_, the next state n_s_\n",
        "        the action a_ used to move from s_ to n_s_ and the reward r_.\n",
        "        \n",
        "        Its goal is to learn a policy.\n",
        "        \"\"\"\n",
        "        pass\n",
        "\n",
        "    def save(self):\n",
        "        \"\"\" This function returns basic stats if applicable: the\n",
        "        loss and/or the model\"\"\"\n",
        "        pass\n",
        "\n",
        "    def load(self):\n",
        "        \"\"\" This function allows to restore a model\"\"\"\n",
        "        pass"
      ],
      "execution_count": 0,
      "outputs": []
    },
    {
      "cell_type": "markdown",
      "metadata": {
        "id": "KyGekqAn2z5o",
        "colab_type": "text"
      },
      "source": [
        "***\n",
        "__Question 1__:\n",
        "Explain the function act. Why is ```epsilon``` essential?"
      ]
    },
    {
      "cell_type": "markdown",
      "metadata": {
        "id": "6tyrKSWr2z5s",
        "colab_type": "text"
      },
      "source": [
        "Function `act` uses an $\\epsilon$-greedy strategy to select an action.\n",
        "It selects a previously learned action with probability $1 - \\epsilon$ and a random action with probability $\\epsilon$.\n",
        "\n",
        "The point of this $\\epsilon$ is to enforce state exploration, so that the learning algorithm does not always choose a sub-optimal learned action."
      ]
    },
    {
      "cell_type": "markdown",
      "metadata": {
        "id": "1vusTmcY2z5y",
        "colab_type": "text"
      },
      "source": [
        "***\n",
        "### The Game"
      ]
    },
    {
      "cell_type": "markdown",
      "metadata": {
        "id": "0265tHRd2z55",
        "colab_type": "text"
      },
      "source": [
        "The ```Agent``` and the ```Environment``` work in an interlaced way as in the following (take some time to understand this code as it is the core of the project)\n",
        "\n",
        "```python\n",
        "\n",
        "epoch = 300\n",
        "env = Environment()\n",
        "agent = Agent()\n",
        "\n",
        "\n",
        "# Number of won games\n",
        "score = 0\n",
        "loss = 0\n",
        "\n",
        "\n",
        "for e in range(epoch):\n",
        "    # At each epoch, we restart to a fresh game and get the initial state\n",
        "    state = env.reset()\n",
        "    # This assumes that the games will end\n",
        "    game_over = False\n",
        "\n",
        "    win = 0\n",
        "    lose = 0\n",
        "    \n",
        "    while not game_over:\n",
        "        # The agent performs an action\n",
        "        action = agent.act(state)\n",
        "\n",
        "        # Apply an action to the environment, get the next state, the reward\n",
        "        # and if the games end\n",
        "        prev_state = state\n",
        "        state, reward, game_over = env.act(action)\n",
        "\n",
        "        # Update the counters\n",
        "        if reward > 0:\n",
        "            win = win + reward\n",
        "        if reward < 0:\n",
        "            lose = lose -reward\n",
        "\n",
        "        # Apply the reinforcement strategy\n",
        "        loss = agent.reinforce(prev_state, state,  action, reward, game_over)\n",
        "\n",
        "    # Save as a mp4\n",
        "    if e % 10 == 0:\n",
        "        env.draw(e)\n",
        "\n",
        "    # Update stats\n",
        "    score += win-lose\n",
        "\n",
        "    print(\"Epoch {:03d}/{:03d} | Loss {:.4f} | Win/lose count {}/{} ({})\"\n",
        "          .format(e, epoch, loss, win, lose, win-lose))\n",
        "    agent.save()\n",
        "```"
      ]
    },
    {
      "cell_type": "markdown",
      "metadata": {
        "id": "DA7YDReu2z59",
        "colab_type": "text"
      },
      "source": [
        "# The game, *eat cheese*"
      ]
    },
    {
      "cell_type": "markdown",
      "metadata": {
        "id": "JiUphZl82z6B",
        "colab_type": "text"
      },
      "source": [
        "A rat runs on an island and tries to eat as much as possible. The island is subdivided into $N\\times N$ cells, in which there are cheese (+0.5) and poisonous cells (-1). The rat has a visibility of 2 cells (thus it can see $5^2$ cells). The rat is given a time $T$ to accumulate as much food as possible. It can perform 4 actions: going up, down, left, right. \n",
        "\n",
        "The goal is to code an agent to solve this task that will learn by trial and error. We propose the following environment:"
      ]
    },
    {
      "cell_type": "code",
      "metadata": {
        "id": "v9NGDd6I2z6H",
        "colab_type": "code",
        "colab": {}
      },
      "source": [
        "class Environment(object):\n",
        "    def __init__(self, grid_size=10, max_time=500, temperature=0.1):\n",
        "        grid_size = grid_size+4\n",
        "        self.grid_size = grid_size\n",
        "        self.max_time = max_time\n",
        "        self.temperature = temperature\n",
        "\n",
        "        #board on which one plays\n",
        "        self.board = np.zeros((grid_size,grid_size))\n",
        "        self.position = np.zeros((grid_size,grid_size))\n",
        "\n",
        "        # coordinate of the cat\n",
        "        self.x = 0\n",
        "        self.y = 1\n",
        "\n",
        "        # self time\n",
        "        self.t = 0\n",
        "\n",
        "        self.scale=16\n",
        "\n",
        "        self.to_draw = np.zeros((max_time+2, grid_size*self.scale, grid_size*self.scale, 3))\n",
        "\n",
        "\n",
        "    def draw(self,e):\n",
        "        skvideo.io.vwrite(str(e) + '.mp4', self.to_draw)\n",
        "\n",
        "    def get_frame(self,t):\n",
        "        b = np.zeros((self.grid_size,self.grid_size,3))+128\n",
        "        b[self.board>0,0] = 256\n",
        "        b[self.board < 0, 2] = 256\n",
        "        b[self.x,self.y,:]=256\n",
        "        b[-2:,:,:]=0\n",
        "        b[:,-2:,:]=0\n",
        "        b[:2,:,:]=0\n",
        "        b[:,:2,:]=0\n",
        "        \n",
        "        b =  cv2.resize(b, None, fx=self.scale, fy=self.scale, interpolation=cv2.INTER_NEAREST)\n",
        "\n",
        "        self.to_draw[t,:,:,:]=b\n",
        "\n",
        "\n",
        "    def act(self, action):\n",
        "        \"\"\"This function returns the new state, reward and decides if the\n",
        "        game ends.\"\"\"\n",
        "\n",
        "        self.get_frame(int(self.t))\n",
        "\n",
        "        self.position = np.zeros((self.grid_size, self.grid_size))\n",
        "\n",
        "        self.position[0:2,:]= -1\n",
        "        self.position[:,0:2] = -1\n",
        "        self.position[-2:, :] = -1\n",
        "        self.position[-2:, :] = -1\n",
        "\n",
        "        self.position[self.x, self.y] = 1\n",
        "        if action == 0:\n",
        "            if self.x == self.grid_size-3:\n",
        "                self.x = self.x-1\n",
        "            else:\n",
        "                self.x = self.x + 1\n",
        "        elif action == 1:\n",
        "            if self.x == 2:\n",
        "                self.x = self.x+1\n",
        "            else:\n",
        "                self.x = self.x-1\n",
        "        elif action == 2:\n",
        "            if self.y == self.grid_size - 3:\n",
        "                self.y = self.y - 1\n",
        "            else:\n",
        "                self.y = self.y + 1\n",
        "        elif action == 3:\n",
        "            if self.y == 2:\n",
        "                self.y = self.y + 1\n",
        "            else:\n",
        "                self.y = self.y - 1\n",
        "        else:\n",
        "            RuntimeError('Error: action not recognized')\n",
        "\n",
        "        self.t = self.t + 1\n",
        "        reward = self.board[self.x, self.y]\n",
        "        self.board[self.x, self.y] = 0\n",
        "        game_over = self.t > self.max_time\n",
        "        state = np.concatenate((self.board.reshape(self.grid_size, self.grid_size,1),\n",
        "                        self.position.reshape(self.grid_size, self.grid_size,1)),axis=2)\n",
        "        state = state[self.x-2:self.x+3,self.y-2:self.y+3,:]\n",
        "\n",
        "        return state, reward, game_over\n",
        "\n",
        "    def reset(self):\n",
        "        \"\"\"This function resets the game and returns the initial state\"\"\"\n",
        "\n",
        "        self.x = np.random.randint(3, self.grid_size-3, size=1)[0]\n",
        "        self.y = np.random.randint(3, self.grid_size-3, size=1)[0]\n",
        "\n",
        "\n",
        "        bonus = 0.5*np.random.binomial(1,self.temperature,size=self.grid_size**2)\n",
        "        bonus = bonus.reshape(self.grid_size,self.grid_size)\n",
        "\n",
        "        malus = -1.0*np.random.binomial(1,self.temperature,size=self.grid_size**2)\n",
        "        malus = malus.reshape(self.grid_size, self.grid_size)\n",
        "\n",
        "        self.to_draw = np.zeros((self.max_time+2, self.grid_size*self.scale, self.grid_size*self.scale, 3))\n",
        "\n",
        "\n",
        "        malus[bonus>0]=0\n",
        "\n",
        "        self.board = bonus + malus\n",
        "\n",
        "        self.position = np.zeros((self.grid_size, self.grid_size))\n",
        "        self.position[0:2,:]= -1\n",
        "        self.position[:,0:2] = -1\n",
        "        self.position[-2:, :] = -1\n",
        "        self.position[-2:, :] = -1\n",
        "        self.board[self.x,self.y] = 0\n",
        "        self.t = 0\n",
        "\n",
        "        state = np.concatenate((\n",
        "                               self.board.reshape(self.grid_size, self.grid_size,1),\n",
        "                        self.position.reshape(self.grid_size, self.grid_size,1)),axis=2)\n",
        "\n",
        "        state = state[self.x - 2:self.x + 3, self.y - 2:self.y + 3, :]\n",
        "        return state"
      ],
      "execution_count": 0,
      "outputs": []
    },
    {
      "cell_type": "markdown",
      "metadata": {
        "id": "8EQyevxQ2z6Y",
        "colab_type": "text"
      },
      "source": [
        "The following elements are important because they correspond to the hyper parameters for this project:"
      ]
    },
    {
      "cell_type": "code",
      "metadata": {
        "id": "8xigtYQs2z6e",
        "colab_type": "code",
        "colab": {}
      },
      "source": [
        "# parameters\n",
        "size = 13\n",
        "T=200\n",
        "temperature=0.3\n",
        "epochs_train=30 # set small when debugging\n",
        "epochs_test=10 # set small when debugging\n",
        "\n",
        "# display videos\n",
        "def display_videos(name):\n",
        "    video = io.open(name, 'r+b').read()\n",
        "    encoded = base64.b64encode(video)\n",
        "    return '''<video alt=\"test\" controls>\n",
        "                <source src=\"data:video/mp4;base64,{0}\" type=\"video/mp4\" />\n",
        "             </video>'''.format(encoded.decode('ascii'))"
      ],
      "execution_count": 0,
      "outputs": []
    },
    {
      "cell_type": "markdown",
      "metadata": {
        "id": "2FpzbA202z6v",
        "colab_type": "text"
      },
      "source": [
        "__Question 2__ Explain the use of the arrays ```position``` and ```board```."
      ]
    },
    {
      "cell_type": "markdown",
      "metadata": {
        "id": "LeIlnb6x2z63",
        "colab_type": "text"
      },
      "source": [
        "Array `position` is an almost zero-filled array of size (`grid_size+4`, `grid_size+4`). It equals zero almost everywhere except on borders, where it equals -1 (representing the walls), and on the current position of the rat (where it equals 1). \n",
        "\n",
        "Array `board` contains the rewards and penalties, respectively represented by good and poisonous cheese."
      ]
    },
    {
      "cell_type": "markdown",
      "metadata": {
        "id": "P1p0w44O2z66",
        "colab_type": "text"
      },
      "source": [
        "## Random Agent"
      ]
    },
    {
      "cell_type": "markdown",
      "metadata": {
        "id": "gK82rb1i2z7C",
        "colab_type": "text"
      },
      "source": [
        "***\n",
        "__Question 3__ Implement a random Agent (only ```learned_act``` needs to be implemented):"
      ]
    },
    {
      "cell_type": "code",
      "metadata": {
        "id": "yxZMp9dQ2z7G",
        "colab_type": "code",
        "colab": {}
      },
      "source": [
        "class RandomAgent(Agent):\n",
        "    def __init__(self):\n",
        "        super(RandomAgent, self).__init__()\n",
        "        pass\n",
        "\n",
        "    def learned_act(self, s):\n",
        "        r\"\"\"\n",
        "            Choose a random action among the possible ones\n",
        "        \"\"\"\n",
        "        return np.random.randint(self.n_action)"
      ],
      "execution_count": 0,
      "outputs": []
    },
    {
      "cell_type": "markdown",
      "metadata": {
        "id": "P2wXuCln2z7U",
        "colab_type": "text"
      },
      "source": [
        "***\n",
        "***\n",
        "__Question 4__ Visualize the game moves. You need to fill in the following function for the evaluation:"
      ]
    },
    {
      "cell_type": "code",
      "metadata": {
        "id": "hDc5J8cS2z7X",
        "colab_type": "code",
        "colab": {}
      },
      "source": [
        "def float_to_string(x):\n",
        "    r\"\"\"\n",
        "        Format a float without trailing zeros\n",
        "        Found on https://stackoverflow.com/questions/2440692/formatting-floats-in-python-without-trailing-zeros\n",
        "    \"\"\"\n",
        "    return ('%.3f'%x).rstrip('0').rstrip('.')\n",
        "\n",
        "def test(agent,env,epochs,prefix=''):\n",
        "    np.random.seed(0)\n",
        "\n",
        "    # Number of won games\n",
        "    score = 0\n",
        "        \n",
        "    for e in range(1, epochs+1):\n",
        "        \n",
        "        state = env.reset()\n",
        "\n",
        "        game_over = False\n",
        "\n",
        "        win, lose = 0, 0\n",
        "\n",
        "        while not game_over:\n",
        "            # The agent performs an action\n",
        "            action = agent.act(state)\n",
        "    \n",
        "            # Apply an action to the environment, get the next state, the reward\n",
        "            # and if the games end\n",
        "            prev_state = state\n",
        "            state, reward, game_over = env.act(action)\n",
        "    \n",
        "            # Update the counters\n",
        "            if reward > 0:\n",
        "                win = win + reward\n",
        "            if reward < 0:\n",
        "                lose = lose -reward\n",
        "\n",
        "            # Apply the reinforcement strategy\n",
        "            loss = agent.reinforce(prev_state, state, action, reward, game_over)\n",
        "        \n",
        "        # Save as a mp4\n",
        "        env.draw(prefix+str(e))\n",
        "\n",
        "        # Update stats\n",
        "        score = score + win-lose\n",
        "\n",
        "        print(\"Win/lose count {}/{}. Average score ({})\".format(\n",
        "            float_to_string(win),\n",
        "            float_to_string(lose),\n",
        "            float_to_string(score/e)))\n",
        "    print('Final score: '+str(score/epochs))"
      ],
      "execution_count": 0,
      "outputs": []
    },
    {
      "cell_type": "code",
      "metadata": {
        "id": "6tfe-Yrt2z7s",
        "colab_type": "code",
        "outputId": "bae7acd1-02ea-4117-e08d-abac34a6a92a",
        "colab": {
          "base_uri": "https://localhost:8080/",
          "height": 471
        }
      },
      "source": [
        "# Initialize the game\n",
        "env = Environment(grid_size=size, max_time=T,temperature=temperature)\n",
        "\n",
        "# Initialize the agent!\n",
        "agent = RandomAgent()\n",
        "\n",
        "test(agent,env,epochs_test,prefix='random')\n",
        "HTML(display_videos('random{:d}.mp4'.format(epochs_test)))"
      ],
      "execution_count": 65,
      "outputs": [
        {
          "output_type": "stream",
          "text": [
            "Win/lose count 7/18. Average score (-11)\n",
            "Win/lose count 7.5/14. Average score (-8.75)\n",
            "Win/lose count 8/16. Average score (-8.5)\n",
            "Win/lose count 7.5/12. Average score (-7.5)\n",
            "Win/lose count 12.5/15. Average score (-6.5)\n",
            "Win/lose count 7.5/8. Average score (-5.5)\n",
            "Win/lose count 8/8. Average score (-4.714)\n",
            "Win/lose count 9.5/13. Average score (-4.562)\n",
            "Win/lose count 10/18. Average score (-4.944)\n",
            "Win/lose count 14.5/16. Average score (-4.6)\n",
            "Final score: -4.6\n"
          ],
          "name": "stdout"
        },
        {
          "output_type": "execute_result",
          "data": {
            "text/html": [
              "<video alt=\"test\" controls>\n",
              "                <source src=\"data:video/mp4;base64,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\" type=\"video/mp4\" />\n",
              "             </video>"
            ],
            "text/plain": [
              "<IPython.core.display.HTML object>"
            ]
          },
          "metadata": {
            "tags": []
          },
          "execution_count": 65
        }
      ]
    },
    {
      "cell_type": "markdown",
      "metadata": {
        "id": "_RTZh3Mf2z77",
        "colab_type": "text"
      },
      "source": [
        "***\n",
        "## DQN"
      ]
    },
    {
      "cell_type": "markdown",
      "metadata": {
        "id": "nYdKJZ-i2z8C",
        "colab_type": "text"
      },
      "source": [
        "Let us assume here that $T=\\infty$.\n",
        "\n",
        "***\n",
        "__Question 5__ Let $\\pi$ be a policy, show that:\n",
        "\n",
        "\\begin{equation*}\n",
        "Q^{\\pi}(s,a)=E_{(s',a')\\sim p(.|s,a)}[r(s,a)+\\gamma Q^{\\pi}(s',a')]\n",
        "\\end{equation*}\n",
        "\n",
        "Then, show that for the optimal policy $\\pi^*$ (we assume its existence), the following holds: \n",
        "\n",
        "\\begin{equation*}\n",
        "Q^{*}(s,a)=E_{s'\\sim \\pi^*(.|s,a)}[r(s,a)+\\gamma\\max_{a'}Q^{*}(s',a')].\n",
        "\\end{equation*}\n",
        "Finally, deduce that a plausible objective is:\n",
        "\n",
        "\\begin{equation*}\n",
        "\\mathcal{L}(\\theta)=E_{s' \\sim \\pi^*(.|s,a)}\\Vert r+\\gamma\\max\\max_{a'}Q(s',a',\\theta)-Q(s,a,\\theta)\\Vert^{2}.\n",
        "\\end{equation*}\n",
        "\n",
        "\n"
      ]
    },
    {
      "cell_type": "markdown",
      "metadata": {
        "id": "jcWowuC_2z8G",
        "colab_type": "text"
      },
      "source": [
        "$$\\begin{aligned}\n",
        "    Q^\\pi(s,a)\n",
        "    &= E_{p^{\\pi}}\\left[\\sum_{t = 0}^\\infty \\gamma^t r(s_{t},a_{t})|s_{0}=s,a_{0}=a\\right] \\\\\n",
        "    &= r(s,a) + \\gamma E_{p^\\pi} \\left[\\sum_{t=1}^\\infty \\gamma^{t-1} r(s_t,a_t) | s_0=s,a_0=a \\right] \\\\\n",
        "    &= r(s,a) + \\sum_{s', a'} \\left( \\gamma E_{p^\\pi} \\left[\\sum_{t=0}^\\infty \\gamma^t r(s_{t+1} ,a_{t+1}) | s_0 = s, a_0 = a, s_1 = s', a_1 = a' \\right] \\right) \\\\\n",
        "    &= r(s,a) + \\sum_{s', a'} p^\\pi(s',a') \\left( \\gamma E_{p^\\pi} \\left[\\sum_{t=0}^\\infty \\gamma^t r(s_t, a_t) | s_0 = s', a_0 = a' \\right] \\right) \\\\\n",
        "    &= r(s,a) + E_{(s',a') \\sim p^\\pi(\\cdot|s,a)} \\left[ \\gamma \\underbrace{E_{p^\\pi} \\left[\\sum_{t=0}^\\infty \\gamma^t r(s_t, a_t) | s_0 = s', a_0 = a' \\right]}_{Q^\\pi(s',a')} \\right] \\\\\n",
        "    &= E_{(s',a')\\sim p^\\pi(.|s,a)} \\left[ r(s,a)+\\gamma Q^{\\pi}(s',a') \\right]\n",
        "\\end{aligned}$$\n",
        "\n",
        "Then:\n",
        "$$\\begin{aligned}\n",
        "    Q^*(s,a)\n",
        "    &= \\max_\\pi Q^\\pi(s,a) \\\\\n",
        "    &= \\max_\\pi E_{(s',a')\\sim \\pi(.|s,a)} \\left[ r(s,a)+\\gamma Q^{\\pi}(s',a')\\right] \\\\\n",
        "    &= E_{(s',a')\\sim p^{\\pi^*}(.|s,a)} \\left[ r(s,a)+\\gamma Q^{\\pi^*}(s',a') \\right] \\\\\n",
        "    &= E_{s' \\sim \\pi^*(.|s,a)} \\left[ r(s,a)+\\gamma Q^*(s',a') \\right]\n",
        "\\end{aligned}$$\n",
        "\n",
        "Therefore, for all states $s$ and all actions $a$,\n",
        "$$Q(s,a,\\theta) = Q^*(s,a) \\Rightarrow \\mathcal{L}(\\theta) = 0$$\n",
        "\n",
        "Since $\\mathcal{L}$ is continuous and convex, optimizing $\\mathcal{L}$ should make $Q$ be more and more closer to $Q^*$. It is thus a plausible objective."
      ]
    },
    {
      "cell_type": "markdown",
      "metadata": {
        "id": "2OGA1tXa2z8I",
        "colab_type": "text"
      },
      "source": [
        "***\n",
        "The DQN-learning algorithm relies on these derivations to train the parameters $\\theta$ of a Deep Neural Network:\n",
        "\n",
        "1. At the state $s_t$, select the action $a_t$ with best reward using $Q_t$ and store the results;\n",
        "\n",
        "2. Obtain the new state $s_{t+1}$ from the environment $p$;\n",
        "\n",
        "3. Store $(s_t,a_t,s_{t+1})$;\n",
        "\n",
        "4. Obtain $Q_{t+1}$ by minimizing  $\\mathcal{L}$ from a recovered batch from the previously stored results.\n",
        "\n",
        "***\n",
        "__Question 6__ Implement the class ```Memory``` that stores moves (in a replay buffer) via ```remember``` and provides a ```random_access``` to these. Specify a maximum memory size to avoid side effects. You can for example use a ```list()``` and set by default ```max_memory=100```."
      ]
    },
    {
      "cell_type": "code",
      "metadata": {
        "id": "YyjFspPD2z8M",
        "colab_type": "code",
        "colab": {}
      },
      "source": [
        "class Memory(object):\n",
        "    def __init__(self, max_memory=100):\n",
        "        self.max_memory = max_memory\n",
        "        self.memory = list()\n",
        "\n",
        "    def remember(self, m):\n",
        "        self.memory.append(m)\n",
        "        self.memory = self.memory[-self.max_memory:]\n",
        "\n",
        "    def random_access(self):\n",
        "        return self.memory[np.random.randint(len(self.memory))]"
      ],
      "execution_count": 0,
      "outputs": []
    },
    {
      "cell_type": "markdown",
      "metadata": {
        "id": "mu_n565J2z8Y",
        "colab_type": "text"
      },
      "source": [
        "***\n",
        "The pipeline we will use for training is given below:"
      ]
    },
    {
      "cell_type": "code",
      "metadata": {
        "id": "KWmBjTLN2z8d",
        "colab_type": "code",
        "colab": {}
      },
      "source": [
        "def train(agent,env,epoch,prefix=''):\n",
        "    np.random.seed(0)\n",
        "\n",
        "    # Number of won games\n",
        "    score = 0\n",
        "    loss = 0\n",
        "\n",
        "    for e in range(1, epoch+1):\n",
        "        # At each epoch, we restart to a fresh game and get the initial state\n",
        "        state = env.reset()\n",
        "        # This assumes that the games will terminate\n",
        "        game_over = False\n",
        "\n",
        "        win = 0\n",
        "        lose = 0\n",
        "\n",
        "        while not game_over:\n",
        "            # The agent performs an action\n",
        "            action = agent.act(state)\n",
        "\n",
        "            # Apply an action to the environment, get the next state, the reward\n",
        "            # and if the games end\n",
        "            prev_state = state\n",
        "            state, reward, game_over = env.act(action)\n",
        "\n",
        "            # Update the counters\n",
        "            if reward > 0:\n",
        "                win = win + reward\n",
        "            if reward < 0:\n",
        "                lose = lose -reward\n",
        "\n",
        "            # Apply the reinforcement strategy\n",
        "            loss = agent.reinforce(prev_state, state,  action, reward, game_over)\n",
        "\n",
        "        # Save as a mp4\n",
        "        if e % 10 == 0 or e == epoch:\n",
        "            env.draw(prefix+str(e))\n",
        "\n",
        "        # Update stats\n",
        "        score += win-lose\n",
        "\n",
        "        print(\"Epoch {:03d}/{:03d} | Loss {:.4f} | Win/lose count {}/{} ({})\"\n",
        "              .format(e, epoch, loss, float_to_string(win), float_to_string(lose), float_to_string(win-lose)))\n",
        "        agent.save(name_weights=prefix+'model.h5',name_model=prefix+'model.json')"
      ],
      "execution_count": 0,
      "outputs": []
    },
    {
      "cell_type": "markdown",
      "metadata": {
        "id": "u8x52RbG2z8s",
        "colab_type": "text"
      },
      "source": [
        "***\n",
        "__Question 7__ Implement the DQN training algorithm using a cascade of fully connected layers. You can use different learning rate, batch size or memory size parameters. In particular, the loss might oscillate while the player will start to win the games. You have to find a good criterium."
      ]
    },
    {
      "cell_type": "code",
      "metadata": {
        "id": "6VW-ptiV2z8w",
        "colab_type": "code",
        "colab": {}
      },
      "source": [
        "class DQN(Agent):\n",
        "    def __init__(self, grid_size,  epsilon=0.1, memory_size=100, batch_size = 16, n_state=2, n_action=4):\n",
        "        super(DQN, self).__init__(epsilon=epsilon)\n",
        "\n",
        "        # Discount for Q learning\n",
        "        self.discount = 0.99\n",
        "        \n",
        "        self.grid_size = grid_size\n",
        "        \n",
        "        # number of states\n",
        "        self.n_state = n_state\n",
        "\n",
        "        # Memory\n",
        "        self.memory = Memory(memory_size)\n",
        "        \n",
        "        # Batch size when learning\n",
        "        self.batch_size = batch_size\n",
        "\n",
        "    def learned_act(self, s):\n",
        "        return np.argmax(self.model.predict(s[np.newaxis]))\n",
        "\n",
        "    def reinforce(self, s_, n_s_, a_, r_, game_over_):\n",
        "        # Two steps: first memorize the states, second learn from the pool\n",
        "\n",
        "        self.memory.remember([s_, n_s_, a_, r_, game_over_])\n",
        "        \n",
        "        s_arr, n_s_arr, a_arr, r_arr, game_over_arr = list(zip(*[self.memory.random_access() for _ in range(self.batch_size)]))\n",
        "        input_states = np.array(s_arr)\n",
        "\n",
        "        target_q = np.array(r_arr)[:,np.newaxis] + np.array(game_over_arr)[:,np.newaxis]*self.discount*self.model.predict(np.array(n_s_arr))\n",
        "\n",
        "        target_q = np.clip(target_q, -3, 3)\n",
        "\n",
        "        l = self.model.train_on_batch(input_states, target_q)\n",
        "\n",
        "        return l\n",
        "\n",
        "    def save(self,name_weights='model.h5',name_model='model.json'):\n",
        "        self.model.save_weights(name_weights, overwrite=True)\n",
        "        with open(name_model, \"w\") as outfile:\n",
        "            json.dump(self.model.to_json(), outfile)\n",
        "            \n",
        "    def load(self,name_weights='model.h5',name_model='model.json'):\n",
        "        with open(name_model, \"r\") as jfile:\n",
        "            model = model_from_json(json.load(jfile))\n",
        "        model.load_weights(name_weights)\n",
        "        model.compile(\"sgd\", \"mse\")\n",
        "        self.model = model\n",
        "\n",
        "            \n",
        "class DQN_FC(DQN):\n",
        "    def __init__(self, *args, lr=0.1,**kwargs):\n",
        "        super(DQN_FC, self).__init__( *args,**kwargs)\n",
        "        \n",
        "        # NN Model\n",
        "        model = Sequential()\n",
        "        model.add(Dense(25, input_shape=(5, 5, self.n_state), activation='relu'))\n",
        "        model.add(Flatten())\n",
        "        model.add(Dense(self.n_action, activation='relu'))\n",
        "        \n",
        "        model.compile(sgd(lr=lr, decay=1e-4, momentum=0.0), \"mse\")\n",
        "        self.model = model\n",
        "        "
      ],
      "execution_count": 0,
      "outputs": []
    },
    {
      "cell_type": "code",
      "metadata": {
        "id": "iHex6eNX2z8-",
        "colab_type": "code",
        "outputId": "a7ff10f5-887b-4169-ac61-95ccf98dffe3",
        "colab": {
          "base_uri": "https://localhost:8080/",
          "height": 1000
        }
      },
      "source": [
        "env = Environment(grid_size=size, max_time=T, temperature=0.3)\n",
        "agent = DQN_FC(size, lr=0.1, epsilon = 0.1, memory_size=1000, batch_size = 32)\n",
        "train(agent, env, epochs_train, prefix='fc_train')\n",
        "HTML(display_videos('fc_train{}.mp4'.format(epochs_train)))"
      ],
      "execution_count": 114,
      "outputs": [
        {
          "output_type": "stream",
          "text": [
            "Epoch 001/050 | Loss 0.0753 | Win/lose count 7/7 (0)\n",
            "Epoch 002/050 | Loss 0.0626 | Win/lose count 5/6 (-1)\n",
            "Epoch 003/050 | Loss 0.0782 | Win/lose count 3.5/4 (-0.5)\n",
            "Epoch 004/050 | Loss 0.0076 | Win/lose count 2.5/5 (-2.5)\n",
            "Epoch 005/050 | Loss 0.0359 | Win/lose count 2.5/7 (-4.5)\n",
            "Epoch 006/050 | Loss 0.0075 | Win/lose count 4.5/6 (-1.5)\n",
            "Epoch 007/050 | Loss 0.0079 | Win/lose count 2/0 (2)\n",
            "Epoch 008/050 | Loss 0.0395 | Win/lose count 1/2 (-1)\n",
            "Epoch 009/050 | Loss 0.0000 | Win/lose count 2.5/0 (2.5)\n",
            "Epoch 010/050 | Loss 0.0073 | Win/lose count 1.5/3 (-1.5)\n",
            "Epoch 011/050 | Loss 0.0000 | Win/lose count 1.5/1 (0.5)\n",
            "Epoch 012/050 | Loss 0.0078 | Win/lose count 2/6 (-4)\n",
            "Epoch 013/050 | Loss 0.0388 | Win/lose count 3.5/1 (2.5)\n",
            "Epoch 014/050 | Loss 0.0312 | Win/lose count 3/3 (0)\n",
            "Epoch 015/050 | Loss 0.0469 | Win/lose count 3.5/2 (1.5)\n",
            "Epoch 016/050 | Loss 0.0078 | Win/lose count 2.5/1 (1.5)\n",
            "Epoch 017/050 | Loss 0.0535 | Win/lose count 2.5/6 (-3.5)\n",
            "Epoch 018/050 | Loss 0.0156 | Win/lose count 3/3 (0)\n",
            "Epoch 019/050 | Loss 0.0078 | Win/lose count 3/4 (-1)\n",
            "Epoch 020/050 | Loss 0.0157 | Win/lose count 4/2 (2)\n",
            "Epoch 021/050 | Loss 0.0235 | Win/lose count 1.5/2 (-0.5)\n",
            "Epoch 022/050 | Loss 0.0082 | Win/lose count 3/5 (-2)\n",
            "Epoch 023/050 | Loss 0.0000 | Win/lose count 2/5 (-3)\n",
            "Epoch 024/050 | Loss 0.0078 | Win/lose count 0/0 (0)\n",
            "Epoch 025/050 | Loss 0.0001 | Win/lose count 1.5/2 (-0.5)\n",
            "Epoch 026/050 | Loss 0.0322 | Win/lose count 3.5/3 (0.5)\n",
            "Epoch 027/050 | Loss 0.0000 | Win/lose count 2/8 (-6)\n",
            "Epoch 028/050 | Loss 0.0312 | Win/lose count 3/4 (-1)\n",
            "Epoch 029/050 | Loss 0.0544 | Win/lose count 4.5/8 (-3.5)\n",
            "Epoch 030/050 | Loss 0.0072 | Win/lose count 3/6 (-3)\n",
            "Epoch 031/050 | Loss 0.0000 | Win/lose count 6/1 (5)\n",
            "Epoch 032/050 | Loss 0.0812 | Win/lose count 5.5/4 (1.5)\n",
            "Epoch 033/050 | Loss 0.0782 | Win/lose count 1.5/2 (-0.5)\n",
            "Epoch 034/050 | Loss 0.0156 | Win/lose count 3.5/5 (-1.5)\n",
            "Epoch 035/050 | Loss 0.0074 | Win/lose count 3/4 (-1)\n",
            "Epoch 036/050 | Loss 0.0221 | Win/lose count 5/0 (5)\n",
            "Epoch 037/050 | Loss 0.0548 | Win/lose count 7/4 (3)\n",
            "Epoch 038/050 | Loss 0.0460 | Win/lose count 5/8 (-3)\n",
            "Epoch 039/050 | Loss 0.0224 | Win/lose count 3.5/4 (-0.5)\n",
            "Epoch 040/050 | Loss 0.0071 | Win/lose count 3/6 (-3)\n",
            "Epoch 041/050 | Loss 0.0313 | Win/lose count 2/1 (1)\n",
            "Epoch 042/050 | Loss 0.0392 | Win/lose count 1.5/2 (-0.5)\n",
            "Epoch 043/050 | Loss 0.0313 | Win/lose count 3/5 (-2)\n",
            "Epoch 044/050 | Loss 0.0646 | Win/lose count 4/4 (0)\n",
            "Epoch 045/050 | Loss 0.0002 | Win/lose count 3.5/4 (-0.5)\n",
            "Epoch 046/050 | Loss 0.0626 | Win/lose count 2/2 (0)\n",
            "Epoch 047/050 | Loss 0.0001 | Win/lose count 6/4 (2)\n",
            "Epoch 048/050 | Loss 0.0823 | Win/lose count 2/2 (0)\n",
            "Epoch 049/050 | Loss 0.0078 | Win/lose count 2.5/2 (0.5)\n",
            "Epoch 050/050 | Loss 0.0316 | Win/lose count 5.5/2 (3.5)\n"
          ],
          "name": "stdout"
        },
        {
          "output_type": "execute_result",
          "data": {
            "text/html": [
              "<video alt=\"test\" controls>\n",
              "                <source src=\"data:video/mp4;base64,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\" type=\"video/mp4\" />\n",
              "             </video>"
            ],
            "text/plain": [
              "<IPython.core.display.HTML object>"
            ]
          },
          "metadata": {
            "tags": []
          },
          "execution_count": 114
        }
      ]
    },
    {
      "cell_type": "markdown",
      "metadata": {
        "id": "yH0JuPMI2z9H",
        "colab_type": "text"
      },
      "source": [
        "***\n",
        "***\n",
        "__Question 8__ Implement the DQN training algorithm using a CNN (for example, 2 convolutional layers and one final fully connected layer)."
      ]
    },
    {
      "cell_type": "code",
      "metadata": {
        "id": "rpvkDwr22z9K",
        "colab_type": "code",
        "colab": {}
      },
      "source": [
        "class DQN_CNN(DQN):\n",
        "    def __init__(self, *args,lr=0.1,**kwargs):\n",
        "        super(DQN_CNN, self).__init__(*args,**kwargs)\n",
        "        \n",
        "        model = Sequential()\n",
        "        model.add(Conv2D(32,(3,3),input_shape=(5,5,self.n_state,),activation='relu'))\n",
        "        model.add(Dropout(0.3))\n",
        "        model.add(Conv2D(16,(2,2),activation='relu'))\n",
        "        model.add(Dropout(0.2))\n",
        "        model.add(Flatten())\n",
        "        model.add(Dense(self.n_action))\n",
        "        \n",
        "        model.compile(adam(lr=lr), \"mse\")\n",
        "        self.model = model"
      ],
      "execution_count": 0,
      "outputs": []
    },
    {
      "cell_type": "code",
      "metadata": {
        "id": "e1tAoaMA2z9Y",
        "colab_type": "code",
        "outputId": "a9e7316b-e35c-446d-b583-8fca530a1174",
        "colab": {
          "base_uri": "https://localhost:8080/",
          "height": 1000
        }
      },
      "source": [
        "env = Environment(grid_size=size, max_time=T, temperature=0.3)\n",
        "agent = DQN_CNN(size, lr=0.1, epsilon=0.1, memory_size=1000, batch_size=32)\n",
        "print(agent.model.summary())\n",
        "train(agent,env,epochs_train,prefix='cnn_train')\n",
        "HTML(display_videos('cnn_train{:d}.mp4'.format(epochs_train)))"
      ],
      "execution_count": 116,
      "outputs": [
        {
          "output_type": "stream",
          "text": [
            "Model: \"sequential_68\"\n",
            "_________________________________________________________________\n",
            "Layer (type)                 Output Shape              Param #   \n",
            "=================================================================\n",
            "conv2d_109 (Conv2D)          (None, 3, 3, 32)          608       \n",
            "_________________________________________________________________\n",
            "dropout_109 (Dropout)        (None, 3, 3, 32)          0         \n",
            "_________________________________________________________________\n",
            "conv2d_110 (Conv2D)          (None, 2, 2, 16)          2064      \n",
            "_________________________________________________________________\n",
            "dropout_110 (Dropout)        (None, 2, 2, 16)          0         \n",
            "_________________________________________________________________\n",
            "flatten_68 (Flatten)         (None, 64)                0         \n",
            "_________________________________________________________________\n",
            "dense_81 (Dense)             (None, 4)                 260       \n",
            "=================================================================\n",
            "Total params: 2,932\n",
            "Trainable params: 2,932\n",
            "Non-trainable params: 0\n",
            "_________________________________________________________________\n",
            "None\n",
            "Epoch 001/050 | Loss 0.0690 | Win/lose count 5/5 (0)\n",
            "Epoch 002/050 | Loss 0.0690 | Win/lose count 8/4 (4)\n",
            "Epoch 003/050 | Loss 0.0217 | Win/lose count 2.5/5 (-2.5)\n",
            "Epoch 004/050 | Loss 0.0166 | Win/lose count 2.5/8 (-5.5)\n",
            "Epoch 005/050 | Loss 0.0088 | Win/lose count 4/7 (-3)\n",
            "Epoch 006/050 | Loss 0.0780 | Win/lose count 4/8 (-4)\n",
            "Epoch 007/050 | Loss 0.0011 | Win/lose count 3/8 (-5)\n",
            "Epoch 008/050 | Loss 0.0388 | Win/lose count 4.5/8 (-3.5)\n",
            "Epoch 009/050 | Loss 0.0772 | Win/lose count 4.5/3 (1.5)\n",
            "Epoch 010/050 | Loss 0.0779 | Win/lose count 5/6 (-1)\n",
            "Epoch 011/050 | Loss 0.1057 | Win/lose count 3.5/8 (-4.5)\n",
            "Epoch 012/050 | Loss 0.0076 | Win/lose count 5/6 (-1)\n",
            "Epoch 013/050 | Loss 0.0391 | Win/lose count 4/8 (-4)\n",
            "Epoch 014/050 | Loss 0.0616 | Win/lose count 5.5/9 (-3.5)\n",
            "Epoch 015/050 | Loss 0.0389 | Win/lose count 9.5/14 (-4.5)\n",
            "Epoch 016/050 | Loss 0.0192 | Win/lose count 5/6 (-1)\n",
            "Epoch 017/050 | Loss 0.0562 | Win/lose count 1/3 (-2)\n",
            "Epoch 018/050 | Loss 0.0009 | Win/lose count 1.5/4 (-2.5)\n",
            "Epoch 019/050 | Loss 0.0613 | Win/lose count 4/5 (-1)\n",
            "Epoch 020/050 | Loss 0.0315 | Win/lose count 3/5 (-2)\n",
            "Epoch 021/050 | Loss 0.0190 | Win/lose count 3.5/4 (-0.5)\n",
            "Epoch 022/050 | Loss 0.0081 | Win/lose count 7/6 (1)\n",
            "Epoch 023/050 | Loss 0.0078 | Win/lose count 2.5/4 (-1.5)\n",
            "Epoch 024/050 | Loss 0.0087 | Win/lose count 1/2 (-1)\n",
            "Epoch 025/050 | Loss 0.0098 | Win/lose count 3/2 (1)\n",
            "Epoch 026/050 | Loss 0.0763 | Win/lose count 3/5 (-2)\n",
            "Epoch 027/050 | Loss 0.0685 | Win/lose count 1.5/6 (-4.5)\n",
            "Epoch 028/050 | Loss 0.0081 | Win/lose count 5/7 (-2)\n",
            "Epoch 029/050 | Loss 0.0392 | Win/lose count 3/4 (-1)\n",
            "Epoch 030/050 | Loss 0.0691 | Win/lose count 4.5/8 (-3.5)\n",
            "Epoch 031/050 | Loss 0.0195 | Win/lose count 7.5/4 (3.5)\n",
            "Epoch 032/050 | Loss 0.0780 | Win/lose count 3/5 (-2)\n",
            "Epoch 033/050 | Loss 0.0076 | Win/lose count 2.5/2 (0.5)\n",
            "Epoch 034/050 | Loss 0.0272 | Win/lose count 2/6 (-4)\n",
            "Epoch 035/050 | Loss 0.0001 | Win/lose count 6/10 (-4)\n",
            "Epoch 036/050 | Loss 0.0610 | Win/lose count 3/8 (-5)\n",
            "Epoch 037/050 | Loss 0.1068 | Win/lose count 1.5/3 (-1.5)\n",
            "Epoch 038/050 | Loss 0.0586 | Win/lose count 5/3 (2)\n",
            "Epoch 039/050 | Loss 0.1070 | Win/lose count 1.5/5 (-3.5)\n",
            "Epoch 040/050 | Loss 0.0304 | Win/lose count 1.5/2 (-0.5)\n",
            "Epoch 041/050 | Loss 0.0184 | Win/lose count 3/5 (-2)\n",
            "Epoch 042/050 | Loss 0.0076 | Win/lose count 2.5/1 (1.5)\n",
            "Epoch 043/050 | Loss 0.0020 | Win/lose count 3.5/4 (-0.5)\n",
            "Epoch 044/050 | Loss 0.0021 | Win/lose count 2/4 (-2)\n",
            "Epoch 045/050 | Loss 0.0000 | Win/lose count 1.5/2 (-0.5)\n",
            "Epoch 046/050 | Loss 0.0076 | Win/lose count 0.5/2 (-1.5)\n",
            "Epoch 047/050 | Loss 0.0000 | Win/lose count 6/1 (5)\n",
            "Epoch 048/050 | Loss 0.0469 | Win/lose count 2/3 (-1)\n",
            "Epoch 049/050 | Loss 0.0081 | Win/lose count 3/4 (-1)\n",
            "Epoch 050/050 | Loss 0.0076 | Win/lose count 1.5/8 (-6.5)\n"
          ],
          "name": "stdout"
        },
        {
          "output_type": "execute_result",
          "data": {
            "text/html": [
              "<video alt=\"test\" controls>\n",
              "                <source src=\"data:video/mp4;base64,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\" type=\"video/mp4\" />\n",
              "             </video>"
            ],
            "text/plain": [
              "<IPython.core.display.HTML object>"
            ]
          },
          "metadata": {
            "tags": []
          },
          "execution_count": 116
        }
      ]
    },
    {
      "cell_type": "markdown",
      "metadata": {
        "id": "feubtkFw2z9h",
        "colab_type": "text"
      },
      "source": [
        "***\n",
        "***\n",
        "__Question 9__ Test both algorithms and compare their performances. Which issue(s) do you observe? Observe also different behaviors by changing the temperature."
      ]
    },
    {
      "cell_type": "code",
      "metadata": {
        "id": "kl38Pwpp2z9j",
        "colab_type": "code",
        "outputId": "94551c52-0262-48e9-e034-ab17e2d648a5",
        "colab": {
          "base_uri": "https://localhost:8080/",
          "height": 407
        }
      },
      "source": [
        "env = Environment(grid_size=size, max_time=T,temperature=0.3)\n",
        "agent_cnn = DQN_CNN(size, lr=.1, epsilon = 0.1, memory_size=2000, batch_size=32)\n",
        "agent_cnn.load(name_weights='cnn_trainmodel.h5',name_model='cnn_trainmodel.json')\n",
        "\n",
        "agent_fc = DQN_FC(size, lr=.1, epsilon = 0.1, memory_size=2000, batch_size=32)\n",
        "agent_fc.load(name_weights='fc_trainmodel.h5',name_model='fc_trainmodel.json')\n",
        "\n",
        "print('Test of the CNN')\n",
        "test(agent_cnn,env,epochs_test,prefix='cnn_test')\n",
        "print('Test of the FC')\n",
        "test(agent_fc,env,epochs_test,prefix='fc_test')"
      ],
      "execution_count": 118,
      "outputs": [
        {
          "output_type": "stream",
          "text": [
            "Test of the CNN\n",
            "Win/lose count 1.5/2. Average score (-0.5)\n",
            "Win/lose count 3.5/3. Average score (0)\n",
            "Win/lose count 3/3. Average score (0)\n",
            "Win/lose count 3/7. Average score (-1)\n",
            "Win/lose count 1.5/2. Average score (-0.9)\n",
            "Win/lose count 2.5/4. Average score (-1)\n",
            "Win/lose count 2.5/2. Average score (-0.786)\n",
            "Win/lose count 4/2. Average score (-0.438)\n",
            "Win/lose count 2/1. Average score (-0.278)\n",
            "Win/lose count 3/2. Average score (-0.15)\n",
            "Final score: -0.15\n",
            "Test of the FC\n",
            "Win/lose count 2.5/6. Average score (-3.5)\n",
            "Win/lose count 4.5/4. Average score (-1.5)\n",
            "Win/lose count 4/2. Average score (-0.333)\n",
            "Win/lose count 3/4. Average score (-0.5)\n",
            "Win/lose count 3/1. Average score (0)\n",
            "Win/lose count 1/5. Average score (-0.667)\n",
            "Win/lose count 4/2. Average score (-0.286)\n",
            "Win/lose count 1.5/4. Average score (-0.562)\n",
            "Win/lose count 6/6. Average score (-0.5)\n",
            "Win/lose count 4.5/10. Average score (-1)\n",
            "Final score: -1.0\n"
          ],
          "name": "stdout"
        }
      ]
    },
    {
      "cell_type": "code",
      "metadata": {
        "id": "Fk_0IAS42z9t",
        "colab_type": "code",
        "outputId": "b6bb323f-c29b-4e18-9d8e-05b80d5a1ff6",
        "colab": {
          "base_uri": "https://localhost:8080/",
          "height": 292
        }
      },
      "source": [
        "HTML(display_videos('cnn_test{}.mp4'.format(epochs_test)))"
      ],
      "execution_count": 119,
      "outputs": [
        {
          "output_type": "execute_result",
          "data": {
            "text/html": [
              "<video alt=\"test\" controls>\n",
              "                <source src=\"data:video/mp4;base64,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\" type=\"video/mp4\" />\n",
              "             </video>"
            ],
            "text/plain": [
              "<IPython.core.display.HTML object>"
            ]
          },
          "metadata": {
            "tags": []
          },
          "execution_count": 119
        }
      ]
    },
    {
      "cell_type": "code",
      "metadata": {
        "id": "PpE_aur92z93",
        "colab_type": "code",
        "outputId": "a87a2672-61ec-45d9-b2c5-853025e12930",
        "colab": {
          "base_uri": "https://localhost:8080/",
          "height": 292
        }
      },
      "source": [
        "HTML(display_videos('fc_test{}.mp4'.format(epochs_test)))"
      ],
      "execution_count": 120,
      "outputs": [
        {
          "output_type": "execute_result",
          "data": {
            "text/html": [
              "<video alt=\"test\" controls>\n",
              "                <source src=\"data:video/mp4;base64,AAAAIGZ0eXBpc29tAAACAGlzb21pc28yYXZjMW1wNDEAAAAIZnJlZQAAF7VtZGF0AAACrQYF//+p3EXpvebZSLeWLNgg2SPu73gyNjQgLSBjb3JlIDE1MiByMjg1NCBlOWE1OTAzIC0gSC4yNjQvTVBFRy00IEFWQyBjb2RlYyAtIENvcHlsZWZ0IDIwMDMtMjAxNyAtIGh0dHA6Ly93d3cudmlkZW9sYW4ub3JnL3gyNjQuaHRtbCAtIG9wdGlvbnM6IGNhYmFjPTEgcmVmPTMgZGVibG9jaz0xOjA6MCBhbmFseXNlPTB4MToweDExMSBtZT1oZXggc3VibWU9NyBwc3k9MSBwc3lfcmQ9MS4wMDowLjAwIG1peGVkX3JlZj0xIG1lX3JhbmdlPTE2IGNocm9tYV9tZT0xIHRyZWxsaXM9MSA4eDhkY3Q9MCBjcW09MCBkZWFkem9uZT0yMSwxMSBmYXN0X3Bza2lwPTEgY2hyb21hX3FwX29mZnNldD00IHRocmVhZHM9MyBsb29rYWhlYWRfdGhyZWFkcz0xIHNsaWNlZF90aHJlYWRzPTAgbnI9MCBkZWNpbWF0ZT0xIGludGVybGFjZWQ9MCBibHVyYXlfY29tcGF0PTAgY29uc3RyYWluZWRfaW50cmE9MCBiZnJhbWVzPTMgYl9weXJhbWlkPTIgYl9hZGFwdD0xIGJfYmlhcz0wIGRpcmVjdD0xIHdlaWdodGI9MSBvcGVuX2dvcD0wIHdlaWdodHA9MiBrZXlpbnQ9MjUwIGtleWludF9taW49MjUgc2NlbmVjdXQ9NDAgaW50cmFfcmVmcmVzaD0wIHJjX2xvb2thaGVhZD00MCByYz1jcmYgbWJ0cmVlPTEgY3JmPTIzLjAgcWNvbXA9MC42MCBxcG1pbj0wIHFwbWF4PTY5IHFwc3RlcD00IGlwX3JhdGlvPTEuNDAgYXE9MToxLjAwAIAAAALrZYiEADf//vaH+BTZWBP+Wb/9DX/cj9uPrP1xYyEE31qvIejAGS+1H+b/rFFs6Z6UB/fgCJQAc24ZwpJw4v/ApLdW+BTLYTkVLnX1aIxw4jw34T+srwtQbsVYpK9aMq6zvSDVXbQaf21bKPLLq+9/jhfjFCHTSZz25XaXYMjgx68z/R4S4/Adk2e0p0dJl9Q4FQDsIMIiTlfmDDwoiyKn8vGoqzWpqGLEJ2lunwAFKcV84eMQvTPxjXpnqo7fW3ihzD9TcYsA8lllVTqHZAFaAfuonf6rwXVjLXfgLQ2PggKYkU71PqEencc0QpPhN6B/YIbz9E71QAojYBwFSMe8VnQNFVJUWozIkx7GHdYT+JiUNQu/BJAkXYV230R5dMq8gSBtX/6KuF4rnfNt2ORP0nxAPcYG5cTRxOlsWNIM8UUv2VdWeSJ5w1u3XwpIGnd82ygjsYGJkFx6A0QMoxYMraeHWvxUOvk8xUwwz5ThnwrTw1timV8K4SolUew16uWYiJlkEB+QAIkBdwnZoHuKvmE6RTaCPQRpqnepg6QeYMn7hUExR2oZPFiAsRviPq4Ggta2D7YrLgwsWoWALGAqAl5KMmUPPmsFiyDXY4AW4le7bqOLaMxPvnMmnAchCWhwQ0AAY11D5rf5QJB5tIUkG3rtRAC6EPpIeDY4mHJUFGN7yGxvUEvTUsxN5LYVbuVyaoFZyWE9vMoT1arvmJfuGyJ+yFfvBFfu6DLHgjmud3PxzqciJy2Lk8kHVUY3SPoUl+88LIxY7Ll8wSnVo2YgSOsXXXUT1AO/+QhrV3CxDXIAOTjQy4jmVKzkrHTcGW5IshFAYUzLxRYkT8ze+/j9Sqr9uQjw3R5T4AJGxDO6AIlcCF2hCJ9E6ViPryTQH+jk4+2/cQKR5AA2d74xuI8funI8zxkyZy9fJSX2RRKZ2WE0lNgZGO4ZWnichXe7pipxNEDIZvqtr4pfYCDw1v3/I1ttQG4vklegAAM7AAAAE0GaIWxDf/6nhACj+6nJ4Pq22mYAAAAfQZpFPCGTKYQ3//6nhADtfAYG5/PfNFtVPm6K8HxTQQAAABRBnmNqU8L/AI7jx9Fiu3loWPH6kAAAABABnoJ0Qr8Aw8mhE+LMUbBxAAAADwGehGpCvwDDktKkUCVSHwAAABhBmoZJqEFomUwIb//+p4QAmo+Y5XDbbUMAAAARQZqqSeEKUmUwIZ/+nhAABH0AAAAMQZ7IRTRML/8AALKAAAAAEAGe53RCvwDD2Vd1fju/gcAAAAAPAZ7pakK/AHsUN2GerPVBAAAAHEGa7EmoQWiZTBTwz/6eEAOv65G7HDS3199to+AAAAAQAZ8LakK/AMi6p5MD17bPgAAAABhBmw1J4QpSZTAhn/6eEAO16+/kSI+sIccAAAAYQZsuSeEOiZTAhn/+nhACbfEP7ZDH1hFlAAAAGEGbT0nhDyZTAhn//p4QAZP193ac3cW4XQAAABpBm3BJ4Q8mUwIZ//6eEAGJ9j4Mfu05u4tw+AAAABhBm5FJ4Q8mUwIZ//6eEAF/9ffyJEfWEj4AAAAfQZuzSeEPJlMFETwz//6eEADz+vv6hb3NcfVi/y6w4QAAABABn9JqQr8AM4TJNN9JByNwAAAAGUGb1EnhDyZTAhn//p4QAKNwbYLIwIFIaYAAAAAaQZv1SeEPJlMCGf/+nhAAaf2PhidaOXuciVEAAAAYQZoWSeEPJlMCGf/+nhAAnvBjn8Oc31rpAAAAGEGaN0nhDyZTAhn//p4QAKNXuNC6b7rfbQAAABhBmlhJ4Q8mUwIb//6nhAAqAKCvLkOcoIEAAAAcQZp6SeEPJlMFETwz//6eEACfA/fI7HwOH+mHyAAAABABnplqQr8AILtEJuM+vUBZAAAAF0Gam0nhDyZTAhn//p4QAKOD9aC/kiFYAAAAFkGavEnhDyZTAhv//qeEACoAoKCgWAUAAAAcQZreSeEPJlMFETwz//6eEACfA/fI7HwOH+mHyQAAABABnv1qQr8AILtEJuM+vUBYAAAAF0Ga/0nhDyZTAhn//p4QAKOD9aC/kiFYAAAAFkGbAEnhDyZTAhv//qeEACoAoKCgWAUAAAAcQZsiSeEPJlMFETwz//6eEACfA/fI7HwOH+mHyAAAABABn0FqQr8AILtEJuM+vUBZAAAAF0GbQ0nhDyZTAhn//p4QAKOD9aC/kiFYAAAAFkGbZEnhDyZTAhv//qeEACoAoKCgWAUAAAAcQZuGSeEPJlMFETwz//6eEACfA/fI7HwOH+mHyQAAABABn6VqQr8AILtEJuM+vUBZAAAAF0Gbp0nhDyZTAhn//p4QAKOD9aC/kiFZAAAAFkGbyEnhDyZTAhv//qeEACoAoKCgWAQAAAAcQZvqSeEPJlMFETwz//6eEACfA/fI7HwIT/N9eAAAABABnglqQr8AILtEJuM+vUBZAAAAF0GaC0nhDyZTAhn//p4QAKOD9aC/kiFYAAAAF0GaLEnhDyZTAhv//qeEACsYrR1UNtwjAAAAGUGaTUnhDyZTAhv//qeEACtfGn7mRQkOTcEAAAAYQZpwSeEPJlMCG//+p4QAG79g9ezPgiy3AAAAD0GejkURPCv/ABa2tw27QQAAAB8Bnq9qQr8AIVCVj4SlT//iD8+ln/+IErFZ/8x00VTBAAAAGUGasUmoQWiZTAhv//6nhAAbH2D17M+CLMEAAAAZQZrSSeEKUmUwId/+qZYADVe0v53SFMI7MQAAABZBmvZJ4Q6JlMCHf/6plgAIz8efyVPAAAAADkGfFEURPC//AAqDKjUgAAAADwGfM3RCvwAOK2Boec8v5QAAAA8BnzVqQr8ADic4aJXPL+UAAAASQZs6SahBaJlMCG///qeEAAEnAAAADEGfWEURLC//AACygQAAAA8Bn3d0Qr8ADitgaHnPL+UAAAAPAZ95akK/AA4nOGiVzy/lAAAAGUGbfUmoQWyZTAhv//6nhAARUfMeRif5bucAAAAPQZ+bRRUsK/8ADigrhvfBAAAADQGfvGpCvwAOLX4wp78AAAAaQZu+SahBbJlMCHf//qmWAAkBRzrQ9X3yVcAAAAAXQZvBSeEKUmUwId/+qZYACQ/HnVjiwYUAAAASQZ//RTRMK/8AFrwdd3f0iy1BAAAAEAGeAGpCvwAWtr5zrQwvasAAAAASQZoFSahBaJlMCG///qeEAAEnAAAADEGeI0URLC//AACygAAAABABnkJ0Qr8ADgKG7p2XZg+BAAAAEAGeRGpCvwAWKNrushhyqsEAAAAZQZpISahBbJlMCG///qeEABFvjpj/D6tu5wAAAA9BnmZFFSwr/wAOKCuG98EAAAANAZ6HakK/AA4tfjCnvgAAABhBmopJqEFsmUwUTDf//qeEAAsfxp/FP4AAAAAQAZ6pakK/AA2ucnezx9wxgQAAAB5BmqxJ4QpSZTBSw3/+p4QAEe+HPmWWJkd92tLi4wQAAAAQAZ7LakK/AA6DMHkuZ8m9gAAAABhBms9J4Q6JlMCG//6nhAAR746Y/w+rbt8AAAASQZ7tRRU8K/8AFrwdd3f0iy1BAAAAEAGfDmpCvwAWtr5zrQwvasEAAAAcQZsTSahBaJlMCG///qeEABFvjp9zIwtmKEc1zAAAABBBnzFFESwv/wAKhQIKUM/oAAAADwGfUHRCvwAOKXoDJLoPgQAAAA8Bn1JqQr8ADig/qkUCVtMAAAAaQZtUSahBbJlMCG///qeEAAsfup+o40JDy8AAAAAbQZt1SeEKUmUwId/+qZYAA5PtqAf387pCmFCJAAAAIUGbl0nhDomUwU0TDv/+qZYAAlPyOghn8zQqBaKYHrc6GQAAABABn7ZqQr8AA7YRM030kIFxAAAAHEGbu0nhDyZTAh3//qmWAAJgtSMut/IAkxj+IREAAAAQQZ/ZRRE8L/8AAtbG24fC6AAAABABn/h0Qr8AA81isWxsqWNRAAAADwGf+mpCvwADt2BLlf5mwAAAABNBm/9JqEFomUwId//+qZYAAJWBAAAADEGeHUURLC//AACygQAAABABnjx0Qr8AA6yhvZdV/GJAAAAAEAGePmpCvwADrKG9itH3bYAAAAATQZojSahBbJlMCHf//qmWAACVgQAAAAxBnkFFFSwv/wAAsoAAAAAQAZ5gdEK/AAOsob2XVfxiQQAAABABnmJqQr8AA6yhvYrR922AAAAAE0GaZ0moQWyZTAh3//6plgAAlYEAAAAMQZ6FRRUsL/8AALKBAAAAEAGepHRCvwAF06Ac/rQOgKEAAAAQAZ6makK/AAOsob2K0fdtgQAAABNBmqtJqEFsmUwId//+qZYAAJWAAAAADEGeyUUVLC//AACygAAAABABnuh0Qr8AA6yhvZdV/GJBAAAAEAGe6mpCvwADrKG9itH3bYAAAAATQZrvSahBbJlMCHf//qmWAACVgAAAAAxBnw1FFSwv/wAAsoEAAAAQAZ8sdEK/AAOsob2XVfxiQQAAABABny5qQr8AA6yhvYrR922BAAAAE0GbM0moQWyZTAh3//6plgAAlYAAAAAMQZ9RRRUsL/8AALKAAAAAEAGfcHRCvwADrKG9l1X8YkEAAAAQAZ9yakK/AAOsob2K0fdtgAAAABNBm3dJqEFsmUwId//+qZYAAJWAAAAADEGflUUVLC//AACygQAAABABn7R0Qr8AA6yhvZdV/GJAAAAAEAGftmpCvwADrKG9itH3bYEAAAATQZu7SahBbJlMCHf//qmWAACVgQAAABRBn9lFFSwv/wACvUhedo46Zyq27AAAABABn/h0Qr8AA7XFmeV+SnoJAAAAEAGf+mpCvwADy84a95pWrcAAAAATQZv/SahBbJlMCHf//qmWAACVgQAAAAxBnh1FFSwv/wAAsoEAAAAQAZ48dEK/AAOsob2XVfxiQAAAABABnj5qQr8AA6yhvYrR922AAAAAHEGaI0moQWyZTAh3//6plgACU/Hn8zQqBaKYiWcAAAAQQZ5BRRUsL/8AAsVAitKRpAAAAA8BnmB0Qr8AA7Zfi4D9A8EAAAAQAZ5iakK/AAO2ETNN9JCBcAAAABpBmmVJqEFsmUwUTDv//qmWAAJQqcR/fV95ZwAAABABnoRqQr8AA8vOGveaVq3BAAAAEkGaiUnhClJlMCHf/qmWAACVgQAAAAxBnqdFNEwv/wAAsoEAAAAQAZ7GdEK/AAOsob2XVfxiQAAAABABnshqQr8AA6yhvYrR922AAAAAEkGazUmoQWiZTAhv//6nhAABJwAAAAxBnutFESwv/wAAsoAAAAAQAZ8KdEK/AAOsob2XVfxiQAAAABABnwxqQr8AA6yhvYrR922BAAAAHEGbD0moQWyZTBRMO//+qZYABZPkWagK/9pfgR0AAAAQAZ8uakK/AAjuzxyv7cRQwQAAABlBmzNJ4QpSZTAh3/6plgAFm99X3ex2jiOAAAAAEEGfUUU0TC//AAaZVz0UQ1gAAAAOAZ9wdEK/AAku47zzjE8AAAAQAZ9yakK/AAjsrkVeAKC5gAAAABxBm3dJqEFomUwIb//+p4QABJvjp91pZmpt0Xj4AAAAEEGflUURLC//AALFQIrSkaUAAAAPAZ+0dEK/AAO2X4uA/QPAAAAAEAGftmpCvwADthEzTfSQgXEAAAAoQZu5SahBbJlMFEw3//6nhAAE2+SK5zLK57x+BSpbPwKZ2Bi7edbpkQAAABABn9hqQr8AA+LMHkwPX3yAAAAAEkGb20nhClJlMFLDf/6nhAABJwAAABIBn/pqQr8AA+HPLMB9l79ZiOAAAAASQZv9SeEOiZTBRMN//qeEAAEnAAAAEQGeHGpCvwAD4TrNfCKSw4/9AAAAE0GaH0nhDyZTBTw7//6plgAAlYAAAAARAZ4+akK/AAPhOs18IpLDj/wAAAATQZohSeEPJlMFPDv//qmWAACVgQAAABEBnkBqQr8AA+E6zXwiksOP/AAAACFBmkVJ4Q8mUwId//6plgACgaWcoMzupIHD/SIlK9BPmoEAAAAQQZ5jRRE8L/8AAvypoWooRwAAAA8BnoJ0Qr8AA+Jfi4D8/8EAAAAQAZ6EakK/AAP4rg1x4q3O4QAAABNBmolJqEFomUwId//+qZYAAJWBAAAADEGep0URLC//AACygQAAAA8BnsZ0Qr8AApllHEdl2mcAAAAQAZ7IakK/AAP5bgOf1oHTaAAAABNBms1JqEFsmUwId//+qZYAAJWBAAAADEGe60UVLC//AACygAAAAA8Bnwp0Qr8AApllHEdl2mcAAAAQAZ8MakK/AAP5bgOf1oHTaQAAABNBmxFJqEFsmUwId//+qZYAAJWBAAAADEGfL0UVLC//AACygQAAAA8Bn050Qr8AApllHEdl2mcAAAAQAZ9QakK/AAP5bgOf1oHTaAAAABpBm1RJqEFsmUwId//+qZYAAaD2l4WoJ/ZCwQAAAA9Bn3JFFSwr/wACoNbiDsAAAAAaAZ+TakK/AAPYnacyyiUEcyvRacyx6vt6+HAAAAAmQZuYSahBbJlMCG///qeEAAS74c+ZZXjDPwKZbOz4FCku3Wl8mjEAAAAQQZ+2RRUsL/8AAtbLFQhF8AAAABABn9V0Qr8AA80ZkR2LMVO5AAAADwGf12pCvwADzWBLlf5kQQAAABNBm9pJqEFsmUwUTDf//qeEAAEnAAAAEAGf+WpCvwADwrAN7PH3aYEAAAATQZv8SeEKUmUwUsO//qmWAACVgAAAABABnhtqQr8AA8KwDezx92mBAAAAG0GaAEnhDomUwIb//qeEAAS76Ofj+ZZqmtzNbQAAABBBnj5FFTwv/wAC1ssE+R3AAAAAEAGeXXRCvwADy8TxSbZLeYAAAAAPAZ5fakK/AAO2ah0LRyPBAAAAGUGaREmoQWiZTAhn//6eEAASVUp219ffdMQAAAAQQZ5iRREsL/8AAtdAgpQ+GQAAAA8BnoF0Qr8AA7disYQrI8AAAAAQAZ6DakK/AAPMzwh40NbRgQAAABNBmoZJqEFsmUwUTDP//p4QAAR9AAAADwGepWpCvwADzWBLlf5kQQAAABJBmqhJ4QpSZTBSwv/+jLAABI0AAAAQAZ7HakK/AAPCsA3s8fdpgAAAABpBmslL4QhDokRggoB/IB/YeAIV//44QAARcAAAC9Btb292AAAAbG12aGQAAAAAAAAAAAAAAAAAAAPoAAAfkAABAAABAAAAAAAAAAAAAAAAAQAAAAAAAAAAAAAAAAAAAAEAAAAAAAAAAAAAAAAAAEAAAAAAAAAAAAAAAAAAAAAAAAAAAAAAAAAAAAAAAAACAAAK+nRyYWsAAABcdGtoZAAAAAMAAAAAAAAAAAAAAAEAAAAAAAAfkAAAAAAAAAAAAAAAAAAAAAAAAQAAAAAAAAAAAAAAAAAAAAEAAAAAAAAAAAAAAAAAAEAAAAABEAAAARAAAAAAACRlZHRzAAAAHGVsc3QAAAAAAAAAAQAAH5AAAAQAAAEAAAAACnJtZGlhAAAAIG1kaGQAAAAAAAAAAAAAAAAAADIAAAGUAFXEAAAAAAAtaGRscgAAAAAAAAAAdmlkZQAAAAAAAAAAAAAAAFZpZGVvSGFuZGxlcgAAAAodbWluZgAAABR2bWhkAAAAAQAAAAAAAAAAAAAAJGRpbmYAAAAcZHJlZgAAAAAAAAABAAAADHVybCAAAAABAAAJ3XN0YmwAAACVc3RzZAAAAAAAAAABAAAAhWF2YzEAAAAAAAAAAQAAAAAAAAAAAAAAAAAAAAABEAEQAEgAAABIAAAAAAAAAAEAAAAAAAAAAAAAAAAAAAAAAAAAAAAAAAAAAAAAAAAAAAAY//8AAAAvYXZjQwH0AA3/4QAXZ/QADZGbKCIR0IAAAAMAgAAAGQeKFMsBAAVo6+PESAAAABhzdHRzAAAAAAAAAAEAAADKAAACAAAAABRzdHNzAAAAAAAAAAEAAAABAAAFqGN0dHMAAAAAAAAAswAAAAIAAAQAAAAAAQAACgAAAAABAAAEAAAAAAEAAAAAAAAAAQAAAgAAAAABAAAEAAAAAAEAAAoAAAAAAQAABAAAAAABAAAAAAAAAAEAAAIAAAAAAQAABgAAAAABAAACAAAAAAUAAAQAAAAAAQAABgAAAAABAAACAAAAAAUAAAQAAAAAAQAABgAAAAABAAACAAAAAAIAAAQAAAAAAQAABgAAAAABAAACAAAAAAIAAAQAAAAAAQAABgAAAAABAAACAAAAAAIAAAQAAAAAAQAABgAAAAABAAACAAAAAAIAAAQAAAAAAQAABgAAAAABAAACAAAAAAMAAAQAAAAAAQAACAAAAAACAAACAAAAAAIAAAQAAAAAAQAACgAAAAABAAAEAAAAAAEAAAAAAAAAAQAAAgAAAAABAAAKAAAAAAEAAAQAAAAAAQAAAAAAAAABAAACAAAAAAEAAAgAAAAAAgAAAgAAAAABAAAEAAAAAAEAAAgAAAAAAgAAAgAAAAABAAAKAAAAAAEAAAQAAAAAAQAAAAAAAAABAAACAAAAAAEAAAgAAAAAAgAAAgAAAAABAAAGAAAAAAEAAAIAAAAAAQAABgAAAAABAAACAAAAAAEAAAgAAAAAAgAAAgAAAAABAAAKAAAAAAEAAAQAAAAAAQAAAAAAAAABAAACAAAAAAIAAAQAAAAAAQAABgAAAAABAAACAAAAAAEAAAoAAAAAAQAABAAAAAABAAAAAAAAAAEAAAIAAAAAAQAACgAAAAABAAAEAAAAAAEAAAAAAAAAAQAAAgAAAAABAAAKAAAAAAEAAAQAAAAAAQAAAAAAAAABAAACAAAAAAEAAAoAAAAAAQAABAAAAAABAAAAAAAAAAEAAAIAAAAAAQAACgAAAAABAAAEAAAAAAEAAAAAAAAAAQAAAgAAAAABAAAKAAAAAAEAAAQAAAAAAQAAAAAAAAABAAACAAAAAAEAAAoAAAAAAQAABAAAAAABAAAAAAAAAAEAAAIAAAAAAQAACgAAAAABAAAEAAAAAAEAAAAAAAAAAQAAAgAAAAABAAAKAAAAAAEAAAQAAAAAAQAAAAAAAAABAAACAAAAAAEAAAoAAAAAAQAABAAAAAABAAAAAAAAAAEAAAIAAAAAAQAACgAAAAABAAAEAAAAAAEAAAAAAAAAAQAAAgAAAAABAAAGAAAAAAEAAAIAAAAAAQAACgAAAAABAAAEAAAAAAEAAAAAAAAAAQAAAgAAAAABAAAKAAAAAAEAAAQAAAAAAQAAAAAAAAABAAACAAAAAAEAAAYAAAAAAQAAAgAAAAABAAAKAAAAAAEAAAQAAAAAAQAAAAAAAAABAAACAAAAAAEAAAoAAAAAAQAABAAAAAABAAAAAAAAAAEAAAIAAAAAAQAABgAAAAABAAACAAAAAAEAAAYAAAAAAQAAAgAAAAABAAAGAAAAAAEAAAIAAAAAAQAABgAAAAABAAACAAAAAAEAAAYAAAAAAQAAAgAAAAABAAAKAAAAAAEAAAQAAAAAAQAAAAAAAAABAAACAAAAAAEAAAoAAAAAAQAABAAAAAABAAAAAAAAAAEAAAIAAAAAAQAACgAAAAABAAAEAAAAAAEAAAAAAAAAAQAAAgAAAAABAAAKAAAAAAEAAAQAAAAAAQAAAAAAAAABAAACAAAAAAEAAAgAAAAAAgAAAgAAAAABAAAKAAAAAAEAAAQAAAAAAQAAAAAAAAABAAACAAAAAAEAAAYAAAAAAQAAAgAAAAABAAAGAAAAAAEAAAIAAAAAAQAACgAAAAABAAAEAAAAAAEAAAAAAAAAAQAAAgAAAAABAAAKAAAAAAEAAAQAAAAAAQAAAAAAAAABAAACAAAAAAEAAAYAAAAAAQAAAgAAAAABAAAGAAAAAAEAAAIAAAAAAQAABAAAAAAcc3RzYwAAAAAAAAABAAAAAQAAAMoAAAABAAADPHN0c3oAAAAAAAAAAAAAAMoAAAWgAAAAFwAAACMAAAAYAAAAFAAAABMAAAAcAAAAFQAAABAAAAAUAAAAEwAAACAAAAAUAAAAHAAAABwAAAAcAAAAHgAAABwAAAAjAAAAFAAAAB0AAAAeAAAAHAAAABwAAAAcAAAAIAAAABQAAAAbAAAAGgAAACAAAAAUAAAAGwAAABoAAAAgAAAAFAAAABsAAAAaAAAAIAAAABQAAAAbAAAAGgAAACAAAAAUAAAAGwAAABsAAAAdAAAAHAAAABMAAAAjAAAAHQAAAB0AAAAaAAAAEgAAABMAAAATAAAAFgAAABAAAAATAAAAEwAAAB0AAAATAAAAEQAAAB4AAAAbAAAAFgAAABQAAAAWAAAAEAAAABQAAAAUAAAAHQAAABMAAAARAAAAHAAAABQAAAAiAAAAFAAAABwAAAAWAAAAFAAAACAAAAAUAAAAEwAAABMAAAAeAAAAHwAAACUAAAAUAAAAIAAAABQAAAAUAAAAEwAAABcAAAAQAAAAFAAAABQAAAAXAAAAEAAAABQAAAAUAAAAFwAAABAAAAAUAAAAFAAAABcAAAAQAAAAFAAAABQAAAAXAAAAEAAAABQAAAAUAAAAFwAAABAAAAAUAAAAFAAAABcAAAAQAAAAFAAAABQAAAAXAAAAGAAAABQAAAAUAAAAFwAAABAAAAAUAAAAFAAAACAAAAAUAAAAEwAAABQAAAAeAAAAFAAAABYAAAAQAAAAFAAAABQAAAAWAAAAEAAAABQAAAAUAAAAIAAAABQAAAAdAAAAFAAAABIAAAAUAAAAIAAAABQAAAATAAAAFAAAACwAAAAUAAAAFgAAABYAAAAWAAAAFQAAABcAAAAVAAAAFwAAABUAAAAlAAAAFAAAABMAAAAUAAAAFwAAABAAAAATAAAAFAAAABcAAAAQAAAAEwAAABQAAAAXAAAAEAAAABMAAAAUAAAAHgAAABMAAAAeAAAAKgAAABQAAAAUAAAAEwAAABcAAAAUAAAAFwAAABQAAAAfAAAAFAAAABQAAAATAAAAHQAAABQAAAATAAAAFAAAABcAAAATAAAAFgAAABQAAAAeAAAAFHN0Y28AAAAAAAAAAQAAADAAAABidWR0YQAAAFptZXRhAAAAAAAAACFoZGxyAAAAAAAAAABtZGlyYXBwbAAAAAAAAAAAAAAAAC1pbHN0AAAAJal0b28AAAAdZGF0YQAAAAEAAAAATGF2ZjU3LjgzLjEwMA==\" type=\"video/mp4\" />\n",
              "             </video>"
            ],
            "text/plain": [
              "<IPython.core.display.HTML object>"
            ]
          },
          "metadata": {
            "tags": []
          },
          "execution_count": 120
        }
      ]
    },
    {
      "cell_type": "markdown",
      "metadata": {
        "id": "vhLcyABI2z-F",
        "colab_type": "text"
      },
      "source": [
        ""
      ]
    },
    {
      "cell_type": "markdown",
      "metadata": {
        "id": "vdMPJH702z-J",
        "colab_type": "text"
      },
      "source": [
        "***\n",
        "\n",
        "The algorithm tends to not explore the map which can be an issue. We propose two ideas in order to encourage exploration:\n",
        "1. Incorporating a decreasing $\\epsilon$-greedy exploration. You can use the method ```set_epsilon```\n",
        "2. Append via the environment a new state that describes if a cell has been visited or not\n",
        "\n",
        "***\n",
        "__Question 10__ Design a new ```train_explore``` function and environment class ```EnvironmentExploring``` to tackle the issue of exploration.\n",
        "\n"
      ]
    },
    {
      "cell_type": "code",
      "metadata": {
        "id": "g99CJpjS2z-M",
        "colab_type": "code",
        "colab": {}
      },
      "source": [
        "def train_explore(agent, env, epoch, decay_factor, prefix=''):\n",
        "    np.random.seed(0)\n",
        "    \n",
        "    # Number of won games\n",
        "    score = 0\n",
        "    loss = 0\n",
        "\n",
        "    for e in range(1, epoch+1):\n",
        "        # At each epoch, we restart to a fresh game and get the initial state\n",
        "        state = env.reset()\n",
        "        agent.set_epsilon(decay_factor*agent.epsilon)\n",
        "\n",
        "        # This assumes that the games will terminate\n",
        "        game_over = False\n",
        "\n",
        "        win = 0\n",
        "        lose = 0\n",
        "\n",
        "        while not game_over:\n",
        "            # The agent performs an action\n",
        "            action = agent.act(state)\n",
        "\n",
        "            # Apply an action to the environment, get the next state, the reward\n",
        "            # and if the games end\n",
        "            prev_state = state\n",
        "            state, reward, game_over = env.act(action, train=True)\n",
        "\n",
        "            # Update the counters\n",
        "            if reward > 0:\n",
        "                win = win + reward\n",
        "            if reward < 0:\n",
        "                lose = lose -reward\n",
        "\n",
        "            # Apply the reinforcement strategy\n",
        "            loss = agent.reinforce(prev_state, state,  action, reward, game_over)\n",
        "\n",
        "        # Save as a mp4\n",
        "        if e % 10 == 0 or e == epoch:\n",
        "            env.draw(prefix+str(e))\n",
        "\n",
        "        # Update stats\n",
        "        score += win-lose\n",
        "\n",
        "        print(\"Epoch {:03d}/{:03d} | Loss {:.4f} | Win/lose count {}/{} ({})\"\n",
        "              .format(e, epoch, loss, float_to_string(win), float_to_string(lose), float_to_string(win-lose)))\n",
        "        agent.save(name_weights=prefix+'model.h5',name_model=prefix+'model.json')\n",
        "\n",
        "        \n",
        "class EnvironmentExploring(Environment):\n",
        "    def __init__(self, grid_size=10, max_time=500, temperature=0.1, revisit_penalty=0.1):\n",
        "        super(EnvironmentExploring, self).__init__(grid_size, max_time, temperature)\n",
        "        self.explored = np.zeros((grid_size,grid_size), dtype=np.int32)\n",
        "        self.revisit_penalty = revisit_penalty\n",
        "\n",
        "    def act(self, action, train=False):\n",
        "        \"\"\"This function returns the new state, reward and decides if the\n",
        "        game ends.\"\"\"\n",
        "\n",
        "        self.get_frame(int(self.t))\n",
        "\n",
        "        self.position = np.zeros((self.grid_size, self.grid_size))\n",
        "\n",
        "        self.position[0:2,:]= -1\n",
        "        self.position[:,0:2] = -1\n",
        "        self.position[-2:, :] = -1\n",
        "        self.position[-2:, :] = -1\n",
        "\n",
        "        self.position[self.x, self.y] = 1\n",
        "        if action == 0:\n",
        "            if self.x == self.grid_size - 3:\n",
        "                self.x = self.x-1\n",
        "            else:\n",
        "                self.x = self.x + 1\n",
        "        elif action == 1:\n",
        "            if self.x == 2:\n",
        "                self.x = self.x+1\n",
        "            else:\n",
        "                self.x = self.x-1\n",
        "        elif action == 2:\n",
        "            if self.y == self.grid_size - 3:\n",
        "                self.y = self.y - 1\n",
        "            else:\n",
        "                self.y = self.y + 1\n",
        "        elif action == 3:\n",
        "            if self.y == 2:\n",
        "                self.y = self.y + 1\n",
        "            else:\n",
        "                self.y = self.y - 1\n",
        "        else:\n",
        "            raise RuntimeError('Error: action not recognized')\n",
        "\n",
        "        self.t = self.t + 1\n",
        "\n",
        "        # compute reward (add a penalty during training step if the case has already been explored)\n",
        "        reward = self.board[self.x, self.y] - (self.revisit_penalty*self.explored[self.x, self.y] if train else 0)\n",
        "\n",
        "        # clean the case and add it to explored cases\n",
        "        self.board[self.x, self.y] = 0\n",
        "        self.explored[self.x, self.y] += 1\n",
        "\n",
        "        game_over = self.t > self.max_time\n",
        "        state = np.stack((\n",
        "            self.explored,\n",
        "            self.board,\n",
        "            self.position),\n",
        "        axis=-1)\n",
        "\n",
        "        state = state[self.x-2:self.x+3,self.y-2:self.y+3,:]\n",
        "\n",
        "        return state, reward, game_over\n",
        "\n",
        "    def reset(self):\n",
        "        \"\"\"This function resets the game and returns the initial state\"\"\"\n",
        "\n",
        "        self.x = np.random.randint(3, self.grid_size-3, size=1)[0]\n",
        "        self.y = np.random.randint(3, self.grid_size-3, size=1)[0]\n",
        "\n",
        "\n",
        "        bonus = 0.5*np.random.binomial(1,self.temperature,size=self.grid_size**2)\n",
        "        bonus = bonus.reshape(self.grid_size,self.grid_size)\n",
        "\n",
        "        malus = -1.0*np.random.binomial(1,self.temperature,size=self.grid_size**2)\n",
        "        malus = malus.reshape(self.grid_size, self.grid_size)\n",
        "\n",
        "        self.to_draw = np.zeros((self.max_time+2, self.grid_size*self.scale, self.grid_size*self.scale, 3))\n",
        "\n",
        "\n",
        "        malus[bonus>0] = 0\n",
        "\n",
        "        self.board = bonus + malus\n",
        "        self.explored = np.zeros((self.grid_size, self.grid_size), dtype=np.int32)\n",
        "\n",
        "        self.position = np.zeros((self.grid_size, self.grid_size))\n",
        "        self.position[0:2,:]= -1\n",
        "        self.position[:,0:2] = -1\n",
        "        self.position[-2:, :] = -1\n",
        "        self.position[-2:, :] = -1\n",
        "        self.board[self.x,self.y] = 0\n",
        "        self.t = 0\n",
        "\n",
        "        state = np.stack((\n",
        "            self.explored,\n",
        "            self.board,\n",
        "            self.position),\n",
        "        axis=-1)\n",
        "\n",
        "        state = state[self.x - 2:self.x + 3, self.y - 2:self.y + 3, :]\n",
        "        return state"
      ],
      "execution_count": 0,
      "outputs": []
    },
    {
      "cell_type": "code",
      "metadata": {
        "id": "2MyT5kwP2z-W",
        "colab_type": "code",
        "colab": {
          "base_uri": "https://localhost:8080/",
          "height": 780
        },
        "outputId": "2d662eed-76af-42cc-8adb-a33829beb495"
      },
      "source": [
        "# Training\n",
        "env = EnvironmentExploring(grid_size=size, max_time=T, temperature=0.3)\n",
        "agent = DQN_CNN(size, lr=.1, epsilon=0.2, memory_size=1000, batch_size=32, n_state=3)\n",
        "train_explore(agent, env, epochs_train, 0.95, prefix='cnn_train_explore')\n",
        "HTML(display_videos('cnn_train_explore{:d}.mp4'.format(epochs_train)))"
      ],
      "execution_count": 138,
      "outputs": [
        {
          "output_type": "stream",
          "text": [
            "Epoch 001/030 | Loss 0.2022 | Win/lose count 6.5/71.5 (-65)\n",
            "Epoch 002/030 | Loss 0.1646 | Win/lose count 13.5/42.1 (-28.6)\n",
            "Epoch 003/030 | Loss 0.1240 | Win/lose count 10/47.7 (-37.7)\n",
            "Epoch 004/030 | Loss 0.2288 | Win/lose count 12.5/48.8 (-36.3)\n",
            "Epoch 005/030 | Loss 0.1445 | Win/lose count 7.5/52.4 (-44.9)\n",
            "Epoch 006/030 | Loss 0.1010 | Win/lose count 13.5/46.1 (-32.6)\n",
            "Epoch 007/030 | Loss 0.1560 | Win/lose count 7/45.3 (-38.3)\n",
            "Epoch 008/030 | Loss 0.1265 | Win/lose count 9.5/47.7 (-38.2)\n",
            "Epoch 009/030 | Loss 0.1647 | Win/lose count 9.5/67.1 (-57.6)\n",
            "Epoch 010/030 | Loss 0.1156 | Win/lose count 7.5/57.4 (-49.9)\n",
            "Epoch 011/030 | Loss 0.0963 | Win/lose count 13/37.5 (-24.5)\n",
            "Epoch 012/030 | Loss 0.1485 | Win/lose count 8.5/73.1 (-64.6)\n",
            "Epoch 013/030 | Loss 0.1238 | Win/lose count 6.5/66.1 (-59.6)\n",
            "Epoch 014/030 | Loss 0.0944 | Win/lose count 7/49.4 (-42.4)\n",
            "Epoch 015/030 | Loss 0.2140 | Win/lose count 8/47.4 (-39.4)\n",
            "Epoch 016/030 | Loss 0.1441 | Win/lose count 4.5/70.7 (-66.2)\n",
            "Epoch 017/030 | Loss 0.1286 | Win/lose count 11/48.8 (-37.8)\n",
            "Epoch 018/030 | Loss 0.0849 | Win/lose count 9.5/57.5 (-48)\n",
            "Epoch 019/030 | Loss 0.0767 | Win/lose count 10.5/44.8 (-34.3)\n",
            "Epoch 020/030 | Loss 0.0888 | Win/lose count 7/62.8 (-55.8)\n",
            "Epoch 021/030 | Loss 0.1337 | Win/lose count 6.5/57.9 (-51.4)\n",
            "Epoch 022/030 | Loss 0.1520 | Win/lose count 4.5/89.9 (-85.4)\n",
            "Epoch 023/030 | Loss 0.1460 | Win/lose count 3.5/90.8 (-87.3)\n",
            "Epoch 024/030 | Loss 0.1239 | Win/lose count 9.5/51.7 (-42.2)\n",
            "Epoch 025/030 | Loss 0.1662 | Win/lose count 6.5/71 (-64.5)\n",
            "Epoch 026/030 | Loss 0.1735 | Win/lose count 3.5/80.7 (-77.2)\n",
            "Epoch 027/030 | Loss 0.1639 | Win/lose count 6.5/63.8 (-57.3)\n",
            "Epoch 028/030 | Loss 0.1292 | Win/lose count 6.5/56.3 (-49.8)\n",
            "Epoch 029/030 | Loss 0.1605 | Win/lose count 3/91.4 (-88.4)\n",
            "Epoch 030/030 | Loss 0.0867 | Win/lose count 7/58.2 (-51.2)\n"
          ],
          "name": "stdout"
        },
        {
          "output_type": "execute_result",
          "data": {
            "text/html": [
              "<video alt=\"test\" controls>\n",
              "                <source src=\"data:video/mp4;base64,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\" type=\"video/mp4\" />\n",
              "             </video>"
            ],
            "text/plain": [
              "<IPython.core.display.HTML object>"
            ]
          },
          "metadata": {
            "tags": []
          },
          "execution_count": 138
        }
      ]
    },
    {
      "cell_type": "code",
      "metadata": {
        "id": "NDlHoWiC2z-g",
        "colab_type": "code",
        "colab": {
          "base_uri": "https://localhost:8080/",
          "height": 471
        },
        "outputId": "ca098d41-2f88-41f3-b020-8f7514254905"
      },
      "source": [
        "# Evaluation\n",
        "test(agent,env,epochs_test,prefix='cnn_test_explore')\n",
        "HTML(display_videos('cnn_test_explore{:d}.mp4'.format(epochs_test)))"
      ],
      "execution_count": 140,
      "outputs": [
        {
          "output_type": "stream",
          "text": [
            "Win/lose count 3.5/5. Average score (-1.5)\n",
            "Win/lose count 3.5/3. Average score (-0.5)\n",
            "Win/lose count 2.5/3. Average score (-0.5)\n",
            "Win/lose count 3.5/7. Average score (-1.25)\n",
            "Win/lose count 6.5/4. Average score (-0.5)\n",
            "Win/lose count 5.5/4. Average score (-0.167)\n",
            "Win/lose count 1.5/6. Average score (-0.786)\n",
            "Win/lose count 3.5/2. Average score (-0.5)\n",
            "Win/lose count 3.5/8. Average score (-0.944)\n",
            "Win/lose count 3/1. Average score (-0.65)\n",
            "Final score: -0.65\n"
          ],
          "name": "stdout"
        },
        {
          "output_type": "execute_result",
          "data": {
            "text/html": [
              "<video alt=\"test\" controls>\n",
              "                <source src=\"data:video/mp4;base64,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\" type=\"video/mp4\" />\n",
              "             </video>"
            ],
            "text/plain": [
              "<IPython.core.display.HTML object>"
            ]
          },
          "metadata": {
            "tags": []
          },
          "execution_count": 140
        }
      ]
    },
    {
      "cell_type": "markdown",
      "metadata": {
        "id": "tmB_-DIg2z-p",
        "colab_type": "text"
      },
      "source": [
        "***\n",
        "***\n",
        "__BONUS question__ Use the expert DQN from the previous question to generate some winning games. Train a model that mimicks its behavior. Compare the performances."
      ]
    },
    {
      "cell_type": "markdown",
      "metadata": {
        "id": "TAYMrGuF2z-s",
        "colab_type": "text"
      },
      "source": [
        ""
      ]
    },
    {
      "cell_type": "markdown",
      "metadata": {
        "id": "8iWynlfP2z-u",
        "colab_type": "text"
      },
      "source": [
        "***"
      ]
    }
  ]
}